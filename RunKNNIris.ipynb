{
 "cells": [
  {
   "cell_type": "code",
   "execution_count": 1,
   "metadata": {},
   "outputs": [],
   "source": [
    "from data import TitanicDataset, DataLoader, IrisDataset"
   ]
  },
  {
   "cell_type": "code",
   "execution_count": 2,
   "metadata": {},
   "outputs": [],
   "source": [
    "%load_ext autoreload\n",
    "%autoreload 2"
   ]
  },
  {
   "cell_type": "code",
   "execution_count": 43,
   "metadata": {},
   "outputs": [
    {
     "name": "stderr",
     "output_type": "stream",
     "text": [
      "/Users/andreicristea/anaconda3/lib/python3.10/site-packages/numpy/core/fromnumeric.py:59: FutureWarning: 'DataFrame.swapaxes' is deprecated and will be removed in a future version. Please use 'DataFrame.transpose' instead.\n",
      "  return bound(*args, **kwds)\n",
      "/Users/andreicristea/anaconda3/lib/python3.10/site-packages/numpy/core/fromnumeric.py:59: FutureWarning: 'DataFrame.swapaxes' is deprecated and will be removed in a future version. Please use 'DataFrame.transpose' instead.\n",
      "  return bound(*args, **kwds)\n",
      "/Users/andreicristea/anaconda3/lib/python3.10/site-packages/numpy/core/fromnumeric.py:59: FutureWarning: 'DataFrame.swapaxes' is deprecated and will be removed in a future version. Please use 'DataFrame.transpose' instead.\n",
      "  return bound(*args, **kwds)\n"
     ]
    }
   ],
   "source": [
    "train_iris = IrisDataset('datasets/titanic/iris.csv', mode='train')\n",
    "validation_iris = IrisDataset('datasets/titanic/iris.csv', mode='val')\n",
    "test_iris = IrisDataset('datasets/titanic/iris.csv', mode='test')\n",
    "classes = train_iris.idx_classes"
   ]
  },
  {
   "cell_type": "code",
   "execution_count": 87,
   "metadata": {},
   "outputs": [],
   "source": [
    "train_batch = DataLoader(train_iris, shuffle=True)\n",
    "validation_batch = DataLoader(validation_iris, shuffle=True)\n",
    "test_batch = DataLoader(test_iris, shuffle=True)\n",
    "\n"
   ]
  },
  {
   "cell_type": "code",
   "execution_count": 47,
   "metadata": {},
   "outputs": [
    {
     "data": {
      "text/plain": [
       "1"
      ]
     },
     "execution_count": 47,
     "metadata": {},
     "output_type": "execute_result"
    }
   ],
   "source": [
    "len(validation_batch)"
   ]
  },
  {
   "cell_type": "code",
   "execution_count": 124,
   "metadata": {},
   "outputs": [],
   "source": [
    "from model import KNNClassifier, KNNWeightedClassifier"
   ]
  },
  {
   "cell_type": "code",
   "execution_count": 73,
   "metadata": {},
   "outputs": [],
   "source": [
    "def evaluate_results(results: list, labels: list):\n",
    "    y_sum = 0\n",
    "    for index, res in enumerate(results):\n",
    "        y_sum += int(labels[index] == res)\n",
    "\n",
    "    return f'{(y_sum / len(labels)) * 100}%'"
   ]
  },
  {
   "cell_type": "code",
   "execution_count": 74,
   "metadata": {},
   "outputs": [
    {
     "data": {
      "text/plain": [
       "[0, 1, 2]"
      ]
     },
     "execution_count": 74,
     "metadata": {},
     "output_type": "execute_result"
    }
   ],
   "source": [
    "classes"
   ]
  },
  {
   "cell_type": "code",
   "execution_count": 131,
   "metadata": {},
   "outputs": [],
   "source": [
    "is_use_weighted = True"
   ]
  },
  {
   "cell_type": "code",
   "execution_count": 147,
   "metadata": {},
   "outputs": [
    {
     "name": "stdout",
     "output_type": "stream",
     "text": [
      "Iteration with K = 1\n",
      "Validation 86.66666666666667%\n",
      "Test 100.0%\n",
      "Train 100.0%\n",
      "Iteration with K = 2\n",
      "Validation 86.66666666666667%\n",
      "Test 100.0%\n",
      "Train 100.0%\n",
      "Iteration with K = 3\n",
      "Validation 86.66666666666667%\n",
      "Test 100.0%\n",
      "Train 100.0%\n",
      "Iteration with K = 4\n",
      "Validation 86.66666666666667%\n",
      "Test 100.0%\n",
      "Train 100.0%\n",
      "Iteration with K = 5\n",
      "Validation 86.66666666666667%\n",
      "Test 93.33333333333333%\n",
      "Train 100.0%\n",
      "Iteration with K = 6\n",
      "Validation 86.66666666666667%\n",
      "Test 93.33333333333333%\n",
      "Train 100.0%\n",
      "Iteration with K = 7\n",
      "Validation 93.33333333333333%\n",
      "Test 93.33333333333333%\n",
      "Train 100.0%\n",
      "Iteration with K = 8\n",
      "Validation 86.66666666666667%\n",
      "Test 93.33333333333333%\n",
      "Train 100.0%\n"
     ]
    }
   ],
   "source": [
    "  \n",
    "for i in range(1, 9):\n",
    "  print(f\"Iteration with K = {i}\")\n",
    "  knn = KNNWeightedClassifier(i, 'eucledean', x_train=train_batch, x_data=validation_batch, classes=classes, labels=None) if is_use_weighted else KNNClassifier(i, 'eucledean', x_train=train_batch, x_data=validation_batch, classes=classes, labels=None)\n",
    "  results = knn.eval()\n",
    "  print(\"Validation\", evaluate_results(results, labels=knn.data_labels))\n",
    "  knn.change_data(test_batch)\n",
    "  test_results = knn.eval()\n",
    "  print(\"Test\", evaluate_results(test_results, labels=knn.data_labels))\n",
    "\n",
    "  knn.change_data(train_batch)\n",
    "  train_results = knn.eval()\n",
    "  print(\"Train\", evaluate_results(train_results, labels=knn.data_labels))\n",
    "\n"
   ]
  },
  {
   "cell_type": "code",
   "execution_count": null,
   "metadata": {},
   "outputs": [],
   "source": []
  }
 ],
 "metadata": {
  "kernelspec": {
   "display_name": "python-ml",
   "language": "python",
   "name": "python3"
  },
  "language_info": {
   "codemirror_mode": {
    "name": "ipython",
    "version": 3
   },
   "file_extension": ".py",
   "mimetype": "text/x-python",
   "name": "python",
   "nbconvert_exporter": "python",
   "pygments_lexer": "ipython3",
   "version": "3.10.13"
  }
 },
 "nbformat": 4,
 "nbformat_minor": 2
}
